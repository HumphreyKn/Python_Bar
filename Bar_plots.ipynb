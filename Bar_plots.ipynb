{
 "cells": [
  {
   "cell_type": "code",
   "execution_count": 1,
   "id": "56e63dd2",
   "metadata": {},
   "outputs": [],
   "source": [
    "import matplotlib.pyplot as plt"
   ]
  },
  {
   "cell_type": "markdown",
   "id": "401d58e3",
   "metadata": {},
   "source": [
    "Write a python script to display a bar chart for the top data analyst skills using the rankings dataset below\n",
    "Data:\n",
    "- Power BI=80\n",
    "- SQL=60\n",
    "- Python=40\n",
    "- Excel=40\n",
    "- Statistics=20"
   ]
  },
  {
   "cell_type": "code",
   "execution_count": 2,
   "id": "493d4baf",
   "metadata": {},
   "outputs": [
    {
     "data": {
      "image/png": "[encoded data removed]",
      "text/plain": [
       "<Figure size 432x288 with 1 Axes>"
      ]
     },
     "metadata": {
      "needs_background": "light"
     },
     "output_type": "display_data"
    }
   ],
   "source": [
    "ranks=[80,60,40,40,30]\n",
    "skills=[\"Python\",\"SQL\",\"Power BI\",\"Excel\",\"Statistics\"]\n",
    "c=[\"red\",\"blue\",\"yellow\",\"black\",\"green\"]\n",
    "plt.bar(skills,ranks,color=c)\n",
    "plt.title(\"Top Data Analyst Skills\")\n",
    "plt.xlabel(\"Skills\",color=\"blue\")\n",
    "plt.ylabel(\"Ranks\")\n",
    "plt.show()"
   ]
  },
  {
   "cell_type": "code",
   "execution_count": null,
   "id": "517a8d21",
   "metadata": {},
   "outputs": [],
   "source": []
  }
 ],
 "metadata": {
  "kernelspec": {
   "display_name": "Python 3 (ipykernel)",
   "language": "python",
   "name": "python3"
  },
  "language_info": {
   "codemirror_mode": {
    "name": "ipython",
    "version": 3
   },
   "file_extension": ".py",
   "mimetype": "text/x-python",
   "name": "python",
   "nbconvert_exporter": "python",
   "pygments_lexer": "ipython3",
   "version": "3.9.7"
  }
 },
 "nbformat": 4,
 "nbformat_minor": 5
}
