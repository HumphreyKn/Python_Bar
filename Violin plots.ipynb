{
 "cells": [
  {
   "cell_type": "code",
   "execution_count": null,
   "id": "23156d37",
   "metadata": {},
   "outputs": [],
   "source": [
    "## Multiple Violin plots"
   ]
  },
  {
   "cell_type": "code",
   "execution_count": null,
   "id": "0960c1ac",
   "metadata": {},
   "outputs": [],
   "source": [
    "import seaborn as sns\n",
    "import matplotlib.pyplot as plt"
   ]
  }
 ],
 "metadata": {
  "kernelspec": {
   "display_name": "Python 3 (ipykernel)",
   "language": "python",
   "name": "python3"
  },
  "language_info": {
   "codemirror_mode": {
    "name": "ipython",
    "version": 3
   },
   "file_extension": ".py",
   "mimetype": "text/x-python",
   "name": "python",
   "nbconvert_exporter": "python",
   "pygments_lexer": "ipython3",
   "version": "3.9.12"
  }
 },
 "nbformat": 4,
 "nbformat_minor": 5
}
