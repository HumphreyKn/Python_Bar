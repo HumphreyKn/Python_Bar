{
 "cells": [
  {
   "cell_type": "markdown",
   "id": "472c1998",
   "metadata": {},
   "source": [
    "## Dictionary"
   ]
  },
  {
   "cell_type": "code",
   "execution_count": 61,
   "id": "b98348d1",
   "metadata": {},
   "outputs": [
    {
     "name": "stdout",
     "output_type": "stream",
     "text": [
      "{'Vehicles': ['Mercedes Benz', 'Audi'], 'Model': ['E class', 'A4'], 'Year': [2021, 2020]}\n"
     ]
    }
   ],
   "source": [
    "diction= {\n",
    "    \"Vehicles\":[\"Mercedes Benz\",\"Audi\"],\n",
    "    \"Model\":[\"E class\", \"A4\"],\n",
    "    \"Year\":[2021,2020]\n",
    "}\n",
    "\n",
    "print(diction)"
   ]
  },
  {
   "cell_type": "markdown",
   "id": "8c032204",
   "metadata": {},
   "source": [
    "### Acessing elements"
   ]
  },
  {
   "cell_type": "code",
   "execution_count": 5,
   "id": "5fb43102",
   "metadata": {},
   "outputs": [
    {
     "data": {
      "text/plain": [
       "{'Audi', 'Mercedes Benz'}"
      ]
     },
     "execution_count": 5,
     "metadata": {},
     "output_type": "execute_result"
    }
   ],
   "source": [
    "diction[\"Vehicles\"]"
   ]
  },
  {
   "cell_type": "code",
   "execution_count": 6,
   "id": "1d094b8d",
   "metadata": {},
   "outputs": [
    {
     "data": {
      "text/plain": [
       "{'A4', 'E class'}"
      ]
     },
     "execution_count": 6,
     "metadata": {},
     "output_type": "execute_result"
    }
   ],
   "source": [
    "diction.get(\"Model\")"
   ]
  },
  {
   "cell_type": "code",
   "execution_count": 8,
   "id": "b1a93630",
   "metadata": {},
   "outputs": [
    {
     "data": {
      "text/plain": [
       "dict_keys(['Vehicles', 'Model', 'Year'])"
      ]
     },
     "execution_count": 8,
     "metadata": {},
     "output_type": "execute_result"
    }
   ],
   "source": [
    "diction.keys()"
   ]
  },
  {
   "cell_type": "markdown",
   "id": "1e0300ef",
   "metadata": {},
   "source": [
    "### Adding a key"
   ]
  },
  {
   "cell_type": "code",
   "execution_count": null,
   "id": "a01d328e",
   "metadata": {},
   "outputs": [],
   "source": [
    "car = {\n",
    "\"brand\": \"Ford\",\n",
    "\"model\": \"Mustang\",\n",
    "\"year\": 1964\n",
    "}\n",
    "\n",
    "x = car.keys()\n",
    "\n",
    "print(x) #before the change\n",
    "\n",
    "car[\"color\"] = \"white\"\n",
    "\n",
    "print(x) #after the change"
   ]
  },
  {
   "cell_type": "code",
   "execution_count": 40,
   "id": "7f04b1eb",
   "metadata": {},
   "outputs": [
    {
     "name": "stdout",
     "output_type": "stream",
     "text": [
      "dict_keys(['Vehicles', 'Model', 'Year'])\n",
      "dict_keys(['Vehicles', 'Model', 'Year', 'Colour'])\n"
     ]
    }
   ],
   "source": [
    "x=diction.keys()\n",
    "print(x)\n",
    "diction[\"Colour\"]=\"Silver\"\n",
    "\n",
    "print(x)"
   ]
  },
  {
   "cell_type": "code",
   "execution_count": 47,
   "id": "560609a8",
   "metadata": {},
   "outputs": [
    {
     "data": {
      "text/plain": [
       "dict_values([['Mercedes Benz', 'Audi'], ['E class', 'A4'], [2021, 2020]])"
      ]
     },
     "execution_count": 47,
     "metadata": {},
     "output_type": "execute_result"
    }
   ],
   "source": [
    "diction.values()"
   ]
  },
  {
   "cell_type": "markdown",
   "id": "d257fecb",
   "metadata": {},
   "source": [
    "### Changing values to keys"
   ]
  },
  {
   "cell_type": "code",
   "execution_count": 49,
   "id": "6f2a3f57",
   "metadata": {},
   "outputs": [
    {
     "name": "stdout",
     "output_type": "stream",
     "text": [
      "dict_items([('brand', 'Ford'), ('model', 'Mustang'), ('year', 1964)])\n",
      "dict_items([('brand', 'Ford'), ('model', 'Mustang'), ('year', 2020)])\n"
     ]
    }
   ],
   "source": [
    "car = {\n",
    "\"brand\": \"Ford\",\n",
    "\"model\": \"Mustang\",\n",
    "\"year\": 1964\n",
    "}\n",
    "\n",
    "x = car.items()\n",
    "\n",
    "print(x) #before the change\n",
    "\n",
    "car[\"year\"] = 2020\n",
    "\n",
    "print(x) #after the change"
   ]
  },
  {
   "cell_type": "code",
   "execution_count": 48,
   "id": "42024338",
   "metadata": {},
   "outputs": [
    {
     "name": "stdout",
     "output_type": "stream",
     "text": [
      "dict_items([('Vehicles', ['Mercedes Benz', 'Audi']), ('Model', ['E class', 'A4']), ('Year', [2021, 2020])])\n",
      "dict_items([('Vehicles', 'Porsche'), ('Model', ['E class', 'A4']), ('Year', [2021, 2020])])\n"
     ]
    }
   ],
   "source": [
    "y= diction.items()\n",
    "print(y)\n",
    "diction[\"Vehicles\"]=\"Porsche\"\n",
    "print(y)"
   ]
  },
  {
   "cell_type": "code",
   "execution_count": 37,
   "id": "afc829fe",
   "metadata": {},
   "outputs": [
    {
     "name": "stdout",
     "output_type": "stream",
     "text": [
      "The model is in diction\n"
     ]
    }
   ],
   "source": [
    "if \"Model\" in diction:\n",
    "    print(\"The model is in diction\")\n",
    "else:\n",
    "    print(\"The model is not in the dictionary\")"
   ]
  },
  {
   "cell_type": "code",
   "execution_count": 38,
   "id": "ad1a4d61",
   "metadata": {},
   "outputs": [
    {
     "name": "stdout",
     "output_type": "stream",
     "text": [
      "The model is not in the dictionary\n"
     ]
    }
   ],
   "source": [
    "if \"model\" in diction:\n",
    "    print(\"The model is in diction\")\n",
    "else:\n",
    "    print(\"The model is not in the dictionary\")"
   ]
  },
  {
   "cell_type": "code",
   "execution_count": 54,
   "id": "912cac5d",
   "metadata": {},
   "outputs": [
    {
     "name": "stdout",
     "output_type": "stream",
     "text": [
      "{'Vehicles': 'BMW', 'Model': ['E class', 'A4'], 'Year': [2021, 2020], 'Vehicle': 'BMW'}\n"
     ]
    }
   ],
   "source": [
    "diction.update({\"Vehicles\":\"BMW\"})\n",
    "print(diction)"
   ]
  },
  {
   "cell_type": "code",
   "execution_count": 55,
   "id": "0e3787a9",
   "metadata": {},
   "outputs": [
    {
     "name": "stdout",
     "output_type": "stream",
     "text": [
      "{'Vehicles': 'BMW', 'Model': ['E class', 'A4'], 'Year': [2021, 2020]}\n"
     ]
    }
   ],
   "source": [
    "diction.pop(\"Vehicle\")\n",
    "print(diction)"
   ]
  },
  {
   "cell_type": "code",
   "execution_count": 59,
   "id": "b06ae0a0",
   "metadata": {},
   "outputs": [
    {
     "name": "stdout",
     "output_type": "stream",
     "text": [
      "{'Vehicles': ['Mercedes Benz', 'Audi'], 'Year': [2021, 2020]}\n"
     ]
    }
   ],
   "source": [
    "del diction[\"Model\"]\n",
    "print(diction)"
   ]
  },
  {
   "cell_type": "code",
   "execution_count": 62,
   "id": "819fee83",
   "metadata": {},
   "outputs": [
    {
     "name": "stdout",
     "output_type": "stream",
     "text": [
      "{}\n"
     ]
    }
   ],
   "source": [
    "diction.clear()\n",
    "\n",
    "print(diction)"
   ]
  },
  {
   "cell_type": "code",
   "execution_count": 60,
   "id": "43896a56",
   "metadata": {},
   "outputs": [
    {
     "ename": "NameError",
     "evalue": "name 'diction' is not defined",
     "output_type": "error",
     "traceback": [
      "\u001b[0;31m---------------------------------------------------------------------------\u001b[0m",
      "\u001b[0;31mNameError\u001b[0m                                 Traceback (most recent call last)",
      "Input \u001b[0;32mIn [60]\u001b[0m, in \u001b[0;36m<cell line: 2>\u001b[0;34m()\u001b[0m\n\u001b[1;32m      1\u001b[0m \u001b[38;5;28;01mdel\u001b[39;00m diction\n\u001b[0;32m----> 2\u001b[0m \u001b[38;5;28mprint\u001b[39m(\u001b[43mdiction\u001b[49m)\n",
      "\u001b[0;31mNameError\u001b[0m: name 'diction' is not defined"
     ]
    }
   ],
   "source": [
    "del diction\n",
    "print(diction)"
   ]
  },
  {
   "cell_type": "markdown",
   "id": "64c7b482",
   "metadata": {},
   "source": [
    "### Copying dictionary"
   ]
  },
  {
   "cell_type": "code",
   "execution_count": 63,
   "id": "bd95df6c",
   "metadata": {},
   "outputs": [
    {
     "name": "stdout",
     "output_type": "stream",
     "text": [
      "{'brand': 'Ford', 'model': 'Mustang', 'year': 1964}\n"
     ]
    }
   ],
   "source": [
    "car1 = {\n",
    "\"brand\": \"Ford\",\n",
    "\"model\": \"Mustang\",\n",
    "\"year\": 1964\n",
    "}\n",
    "\n",
    "car2=car1.copy()\n",
    "print(car2)"
   ]
  },
  {
   "cell_type": "code",
   "execution_count": 64,
   "id": "785943f3",
   "metadata": {},
   "outputs": [
    {
     "name": "stdout",
     "output_type": "stream",
     "text": [
      "{'brand': 'Ford', 'model': 'Mustang', 'year': 1964}\n"
     ]
    }
   ],
   "source": [
    "car3= dict(car1)\n",
    "print(car3)"
   ]
  },
  {
   "cell_type": "markdown",
   "id": "2f1e402b",
   "metadata": {},
   "source": [
    "## Nested Dictionaries"
   ]
  },
  {
   "cell_type": "code",
   "execution_count": 65,
   "id": "63b9d83c",
   "metadata": {},
   "outputs": [
    {
     "name": "stdout",
     "output_type": "stream",
     "text": [
      "{'Vehicle1': {'brand1': 'Toyota', 'Model': 'V8'}, 'Vehicle2': {'brand': 'Mazda', 'Model': 'Atenza'}, 'Vehicle3': {'brand': 'Subaru', 'Model': 'Forester'}}\n"
     ]
    }
   ],
   "source": [
    "vehicles={\n",
    "    \"Vehicle1\":{\n",
    "    \"brand1\":\"Toyota\",\n",
    "    \"Model\":\"V8\"\n",
    "\n",
    "    },\n",
    "    \"Vehicle2\":{\n",
    "        \"brand\":\"Mazda\",\n",
    "        \"Model\":\"Atenza\"\n",
    "    },\n",
    "    \"Vehicle3\":{\n",
    "        \"brand\":\"Subaru\",\n",
    "        \"Model\":\"Forester\"\n",
    "    }\n",
    "}\n",
    "\n",
    "print(vehicles)"
   ]
  },
  {
   "cell_type": "markdown",
   "id": "3f3dc46f",
   "metadata": {},
   "source": [
    "# Condition Statements"
   ]
  },
  {
   "cell_type": "markdown",
   "id": "0f5da7b5",
   "metadata": {},
   "source": [
    "## if- statement"
   ]
  },
  {
   "cell_type": "code",
   "execution_count": 67,
   "id": "5b36e19c",
   "metadata": {},
   "outputs": [
    {
     "name": "stdout",
     "output_type": "stream",
     "text": [
      "a is not greater than b\n"
     ]
    }
   ],
   "source": [
    "a= 45\n",
    "b=63\n",
    "\n",
    "if a>b:\n",
    "    print(\"a is greater than b\")\n",
    "else:\n",
    "    print(\"a is not greater than b\")"
   ]
  },
  {
   "cell_type": "code",
   "execution_count": 71,
   "id": "cc96d69c",
   "metadata": {},
   "outputs": [
    {
     "name": "stdout",
     "output_type": "stream",
     "text": [
      "b is greater than a\n"
     ]
    }
   ],
   "source": [
    "a= 63\n",
    "b=63\n",
    "\n",
    "if a>b:\n",
    "    print(\"a is greater than b\")\n",
    "elif b>=a:\n",
    "    print(\"b is greater than a\")\n",
    "elif b== a:\n",
    "    print(\"b is equal to a\")\n",
    "else:\n",
    "    print(\"None of the conditions is satisfied\")\n"
   ]
  },
  {
   "cell_type": "code",
   "execution_count": 3,
   "id": "6c884dd0",
   "metadata": {},
   "outputs": [
    {
     "name": "stdout",
     "output_type": "stream",
     "text": [
      "a is not greater than b\n"
     ]
    }
   ],
   "source": [
    "a= 45\n",
    "b=63\n",
    "\n",
    "print(\"a is greater than b\") if a>b else print(\"a is not greater than b\")"
   ]
  },
  {
   "cell_type": "code",
   "execution_count": 4,
   "id": "652293dc",
   "metadata": {},
   "outputs": [
    {
     "name": "stdout",
     "output_type": "stream",
     "text": [
      "None of the conditions hold\n"
     ]
    }
   ],
   "source": [
    "# AND keyword\n",
    "a= 45\n",
    "b=63\n",
    "c=94\n",
    "\n",
    "if a>b and b>c:\n",
    "    print(\"b is the largest number\")\n",
    "elif a>b and b<c:\n",
    "    print(\"a is greater than b but less than c\")\n",
    "elif a>c and a>b:\n",
    "    print(\"a is the largest\")\n",
    "else:\n",
    "    print(\"None of the conditions hold\")"
   ]
  },
  {
   "cell_type": "code",
   "execution_count": 5,
   "id": "c5f1f56f",
   "metadata": {},
   "outputs": [
    {
     "name": "stdout",
     "output_type": "stream",
     "text": [
      "At least one of the conditions is true\n"
     ]
    }
   ],
   "source": [
    "# or keyword\n",
    "if 5>3 or 6>10:\n",
    "    print(\"At least one of the conditions is true\")\n",
    "else:\n",
    "    print(\"Nome of the conditions are true\")"
   ]
  },
  {
   "cell_type": "code",
   "execution_count": 15,
   "id": "5154f49e",
   "metadata": {},
   "outputs": [
    {
     "name": "stdout",
     "output_type": "stream",
     "text": [
      "a is not greater than 10\n"
     ]
    }
   ],
   "source": [
    "# nested if\n",
    "if a<10:\n",
    "    print(\"a is greater than 10\")\n",
    "    if a>30:\n",
    "        print(\"a is greater than 30\")\n",
    "    else:\n",
    "        print(\"None of the coditions hold\")\n",
    "else:\n",
    "    print(\"a is not greater than 10\")\n",
    "    \n",
    "            "
   ]
  },
  {
   "cell_type": "code",
   "execution_count": 16,
   "id": "c3b85399",
   "metadata": {},
   "outputs": [],
   "source": [
    "# pass statement\n",
    "if a<=10:\n",
    "    pass"
   ]
  },
  {
   "cell_type": "markdown",
   "id": "8fe7ba3e",
   "metadata": {},
   "source": [
    "## Loops"
   ]
  },
  {
   "cell_type": "markdown",
   "id": "93b61636",
   "metadata": {},
   "source": [
    "### while loop"
   ]
  },
  {
   "cell_type": "code",
   "execution_count": 18,
   "id": "4fb254e7",
   "metadata": {},
   "outputs": [
    {
     "name": "stdout",
     "output_type": "stream",
     "text": [
      "30\n",
      "32\n",
      "34\n",
      "36\n",
      "38\n"
     ]
    }
   ],
   "source": [
    "x= 30\n",
    "while x<40:\n",
    "    print(x)\n",
    "    x+=2"
   ]
  },
  {
   "cell_type": "code",
   "execution_count": 7,
   "id": "bf846f6f",
   "metadata": {},
   "outputs": [
    {
     "name": "stdout",
     "output_type": "stream",
     "text": [
      "30\n"
     ]
    }
   ],
   "source": [
    "x=30\n",
    "while x<40:\n",
    "    print(x)\n",
    "    if (x<=38):\n",
    "        break\n",
    "    x+=1"
   ]
  },
  {
   "cell_type": "code",
   "execution_count": 5,
   "id": "cca7f7d9",
   "metadata": {},
   "outputs": [
    {
     "name": "stdout",
     "output_type": "stream",
     "text": [
      "31\n",
      "32\n",
      "33\n",
      "34\n",
      "35\n",
      "36\n",
      "37\n"
     ]
    }
   ],
   "source": [
    "x=30\n",
    "while x<50:\n",
    "    x+=1\n",
    "    \n",
    "    if (x>=38):\n",
    "        continue\n",
    "    print(x)\n",
    "  #  x+=1"
   ]
  },
  {
   "cell_type": "code",
   "execution_count": 11,
   "id": "e1e66233",
   "metadata": {},
   "outputs": [
    {
     "name": "stdout",
     "output_type": "stream",
     "text": [
      "30\n",
      "31\n",
      "32\n",
      "33\n",
      "34\n",
      "35\n",
      "36\n",
      "37\n",
      "38\n",
      "39\n",
      "40\n",
      "41\n",
      "42\n",
      "43\n",
      "44\n",
      "45\n",
      "46\n",
      "47\n",
      "48\n",
      "49\n",
      "50\n",
      "x is no longer less than 50\n"
     ]
    }
   ],
   "source": [
    "x=30\n",
    "while x<=50:\n",
    "        \n",
    "    print(x)\n",
    "    x+=1\n",
    "else:\n",
    "    print(\"x is no longer less than 50\")"
   ]
  },
  {
   "cell_type": "markdown",
   "id": "707bd468",
   "metadata": {},
   "source": [
    "## for loop"
   ]
  },
  {
   "cell_type": "code",
   "execution_count": 13,
   "id": "7ae70484",
   "metadata": {},
   "outputs": [
    {
     "name": "stdout",
     "output_type": "stream",
     "text": [
      "Mercedes  is in cars\n",
      "BMW  is in cars\n",
      "Audi  is in cars\n",
      "Porsche  is in cars\n",
      "Volkswagen  is in cars\n",
      "Toyota  is in cars\n"
     ]
    }
   ],
   "source": [
    "cars=[\"Mercedes\",\"BMW\",\"Audi\",\"Porsche\",\"Volkswagen\",\"Toyota\"]\n",
    "for x in cars:\n",
    "    print(x,\" is in cars\")"
   ]
  },
  {
   "cell_type": "code",
   "execution_count": 14,
   "id": "9b4256b4",
   "metadata": {},
   "outputs": [
    {
     "name": "stdout",
     "output_type": "stream",
     "text": [
      "m\n",
      "a\n",
      "n\n",
      "g\n",
      "o\n",
      "e\n",
      "s\n"
     ]
    }
   ],
   "source": [
    "for x in \"mangoes\":\n",
    "    print(x)"
   ]
  },
  {
   "cell_type": "code",
   "execution_count": 15,
   "id": "96b02474",
   "metadata": {},
   "outputs": [
    {
     "name": "stdout",
     "output_type": "stream",
     "text": [
      "Mercedes  is in cars\n",
      "BMW  is in cars\n",
      "Audi  is in cars\n",
      "Porsche  is in cars\n"
     ]
    }
   ],
   "source": [
    "cars=[\"Mercedes\",\"BMW\",\"Audi\",\"Porsche\",\"Volkswagen\",\"Toyota\"]\n",
    "for x in cars:\n",
    "    print(x,\" is in cars\")\n",
    "    if x== \"Porsche\":\n",
    "        break"
   ]
  },
  {
   "cell_type": "code",
   "execution_count": 17,
   "id": "9e868fa3",
   "metadata": {},
   "outputs": [
    {
     "name": "stdout",
     "output_type": "stream",
     "text": [
      "Mercedes  is in cars\n",
      "BMW  is in cars\n",
      "Audi  is in cars\n"
     ]
    }
   ],
   "source": [
    "cars=[\"Mercedes\",\"BMW\",\"Audi\",\"Porsche\",\"Volkswagen\",\"Toyota\"]\n",
    "for x in cars:\n",
    "    if x== \"Porsche\":\n",
    "        break\n",
    "    print(x,\" is in cars\")"
   ]
  },
  {
   "cell_type": "code",
   "execution_count": 19,
   "id": "dd647a82",
   "metadata": {},
   "outputs": [
    {
     "name": "stdout",
     "output_type": "stream",
     "text": [
      "Volkswagen  is in cars\n",
      "Toyota  is in cars\n"
     ]
    }
   ],
   "source": [
    "cars=[\"Mercedes\",\"BMW\",\"Audi\",\"Porsche\",\"Volkswagen\",\"Toyota\"]\n",
    "\n",
    "for x in cars:\n",
    "    if x<= \"Porsche\":\n",
    "        continue\n",
    "    print(x,\" is in cars\")"
   ]
  },
  {
   "cell_type": "markdown",
   "id": "ca6b39fd",
   "metadata": {},
   "source": [
    "## range fxn"
   ]
  },
  {
   "cell_type": "code",
   "execution_count": 24,
   "id": "dd65b35f",
   "metadata": {},
   "outputs": [
    {
     "name": "stdout",
     "output_type": "stream",
     "text": [
      "2\n",
      "5\n",
      "8\n"
     ]
    }
   ],
   "source": [
    "for x in range(2,10,3):\n",
    "    print(x)"
   ]
  },
  {
   "cell_type": "code",
   "execution_count": 25,
   "id": "2d1eefeb",
   "metadata": {},
   "outputs": [
    {
     "name": "stdout",
     "output_type": "stream",
     "text": [
      "0\n",
      "1\n",
      "2\n",
      "3\n",
      "4\n",
      "5\n",
      "6\n",
      "7\n",
      "8\n",
      "9\n",
      "THE END\n"
     ]
    }
   ],
   "source": [
    "for x in range(10):\n",
    "    print(x)\n",
    "else:\n",
    "    print(\"THE END\")"
   ]
  },
  {
   "cell_type": "code",
   "execution_count": 28,
   "id": "92e13542",
   "metadata": {},
   "outputs": [
    {
     "name": "stdout",
     "output_type": "stream",
     "text": [
      "4\n",
      "5\n",
      "6\n",
      "7\n",
      "8\n",
      "9\n",
      "THE END\n"
     ]
    }
   ],
   "source": [
    "for x in range(10):\n",
    "    if x<=3: continue\n",
    "    print(x)\n",
    "else:\n",
    "    print(\"THE END\")"
   ]
  },
  {
   "cell_type": "code",
   "execution_count": 30,
   "id": "5c416a2e",
   "metadata": {},
   "outputs": [
    {
     "name": "stdout",
     "output_type": "stream",
     "text": [
      "Mercedes , Apple\n",
      "Mercedes , orange\n",
      "Mercedes , pineapple\n",
      "Mercedes , mango\n",
      "Mercedes , lemon\n",
      "Mercedes , mapera\n",
      "BMW , Apple\n",
      "BMW , orange\n",
      "BMW , pineapple\n",
      "BMW , mango\n",
      "BMW , lemon\n",
      "BMW , mapera\n",
      "Audi , Apple\n",
      "Audi , orange\n",
      "Audi , pineapple\n",
      "Audi , mango\n",
      "Audi , lemon\n",
      "Audi , mapera\n",
      "Porsche , Apple\n",
      "Porsche , orange\n",
      "Porsche , pineapple\n",
      "Porsche , mango\n",
      "Porsche , lemon\n",
      "Porsche , mapera\n",
      "Volkswagen , Apple\n",
      "Volkswagen , orange\n",
      "Volkswagen , pineapple\n",
      "Volkswagen , mango\n",
      "Volkswagen , lemon\n",
      "Volkswagen , mapera\n",
      "Toyota , Apple\n",
      "Toyota , orange\n",
      "Toyota , pineapple\n",
      "Toyota , mango\n",
      "Toyota , lemon\n",
      "Toyota , mapera\n"
     ]
    }
   ],
   "source": [
    "## nested loop\n",
    "cars=[\"Mercedes\",\"BMW\",\"Audi\",\"Porsche\",\"Volkswagen\",\"Toyota\"]\n",
    "fruits=[\"Apple\",\"orange\",\"pineapple\",\"mango\",\"lemon\",\"mapera\"]\n",
    "\n",
    "for x in cars:\n",
    "    for y in fruits:\n",
    "        print(x,\",\",y)"
   ]
  },
  {
   "cell_type": "code",
   "execution_count": 31,
   "id": "c9200b2b",
   "metadata": {},
   "outputs": [],
   "source": [
    "cars=[\"Mercedes\",\"BMW\",\"Audi\",\"Porsche\",\"Volkswagen\",\"Toyota\"]\n",
    "fruits=[]\n",
    "\n",
    "for x in cars:\n",
    "    for y in fruits:\n",
    "        pass\n",
    "       # print(x,\",\",y)"
   ]
  },
  {
   "cell_type": "code",
   "execution_count": 35,
   "id": "965ee413",
   "metadata": {},
   "outputs": [
    {
     "name": "stdout",
     "output_type": "stream",
     "text": [
      "2 is a prime number\n",
      "3 is a prime number\n",
      "4 equals 2 * 2\n",
      "5 is a prime number\n",
      "6 equals 2 * 3\n",
      "7 is a prime number\n",
      "8 equals 2 * 4\n",
      "9 equals 3 * 3\n"
     ]
    }
   ],
   "source": [
    "for x in range(2,10):\n",
    "    for m in range(2,x):\n",
    "        if x % m == 0:\n",
    "            print(x, 'equals', m, '*', x//m)\n",
    "            break\n",
    "    else:\n",
    "        print(x, 'is a prime number')"
   ]
  },
  {
   "cell_type": "markdown",
   "id": "bcd0e8b0",
   "metadata": {},
   "source": [
    "# PYTHON MODULES"
   ]
  },
  {
   "cell_type": "code",
   "execution_count": 3,
   "id": "26cc1ff1",
   "metadata": {},
   "outputs": [
    {
     "name": "stdout",
     "output_type": "stream",
     "text": [
      "Linux\n"
     ]
    }
   ],
   "source": [
    "import platform as pt\n",
    "x= pt.system()\n",
    "print(x)"
   ]
  },
  {
   "cell_type": "code",
   "execution_count": 4,
   "id": "be4c8976",
   "metadata": {},
   "outputs": [
    {
     "name": "stdout",
     "output_type": "stream",
     "text": [
      "Linux\n"
     ]
    }
   ],
   "source": [
    "import platform\n",
    "x= platform.system()\n",
    "print(x)"
   ]
  },
  {
   "cell_type": "code",
   "execution_count": 5,
   "id": "81c367a6",
   "metadata": {},
   "outputs": [
    {
     "name": "stdout",
     "output_type": "stream",
     "text": [
      "['_Processor', '_WIN32_CLIENT_RELEASES', '_WIN32_SERVER_RELEASES', '__builtins__', '__cached__', '__copyright__', '__doc__', '__file__', '__loader__', '__name__', '__package__', '__spec__', '__version__', '_comparable_version', '_component_re', '_default_architecture', '_follow_symlinks', '_get_machine_win32', '_ironpython26_sys_version_parser', '_ironpython_sys_version_parser', '_java_getprop', '_libc_search', '_mac_ver_xml', '_node', '_norm_version', '_platform', '_platform_cache', '_pypy_sys_version_parser', '_sys_version', '_sys_version_cache', '_sys_version_parser', '_syscmd_file', '_syscmd_ver', '_uname_cache', '_unknown_as_blank', '_ver_output', '_ver_stages', 'architecture', 'collections', 'functools', 'itertools', 'java_ver', 'libc_ver', 'mac_ver', 'machine', 'node', 'os', 'platform', 'processor', 'python_branch', 'python_build', 'python_compiler', 'python_implementation', 'python_revision', 'python_version', 'python_version_tuple', 're', 'release', 'subprocess', 'sys', 'system', 'system_alias', 'uname', 'uname_result', 'version', 'win32_edition', 'win32_is_iot', 'win32_ver']\n"
     ]
    }
   ],
   "source": [
    "x= dir(platform)\n",
    "print(x)"
   ]
  },
  {
   "cell_type": "markdown",
   "id": "56469a2f",
   "metadata": {},
   "source": [
    "## python date time"
   ]
  },
  {
   "cell_type": "code",
   "execution_count": 8,
   "id": "7508c453",
   "metadata": {},
   "outputs": [
    {
     "name": "stdout",
     "output_type": "stream",
     "text": [
      "2022-07-04 20:47:38.637025\n"
     ]
    }
   ],
   "source": [
    "import datetime as dt\n",
    "x= dt.datetime.now()\n",
    "print(x)"
   ]
  },
  {
   "cell_type": "code",
   "execution_count": 9,
   "id": "d7fbe485",
   "metadata": {},
   "outputs": [
    {
     "name": "stdout",
     "output_type": "stream",
     "text": [
      "2022\n"
     ]
    }
   ],
   "source": [
    "import datetime as dt\n",
    "x= dt.datetime.now()\n",
    "print(x.year)"
   ]
  },
  {
   "cell_type": "code",
   "execution_count": 12,
   "id": "45433834",
   "metadata": {},
   "outputs": [
    {
     "name": "stdout",
     "output_type": "stream",
     "text": [
      "['MAXYEAR', 'MINYEAR', '__all__', '__builtins__', '__cached__', '__doc__', '__file__', '__loader__', '__name__', '__package__', '__spec__', 'date', 'datetime', 'datetime_CAPI', 'sys', 'time', 'timedelta', 'timezone', 'tzinfo']\n"
     ]
    }
   ],
   "source": [
    "print(dir(dt))"
   ]
  },
  {
   "cell_type": "code",
   "execution_count": 14,
   "id": "b902c2c1",
   "metadata": {},
   "outputs": [
    {
     "name": "stdout",
     "output_type": "stream",
     "text": [
      "2022-04-25 00:00:00\n"
     ]
    }
   ],
   "source": [
    "x= dt.datetime(2022,4,25)\n",
    "print(x)"
   ]
  },
  {
   "cell_type": "code",
   "execution_count": 17,
   "id": "8ace4e18",
   "metadata": {},
   "outputs": [
    {
     "name": "stdout",
     "output_type": "stream",
     "text": [
      "April\n"
     ]
    }
   ],
   "source": [
    "print(x.strftime(\"%B\"))"
   ]
  },
  {
   "cell_type": "code",
   "execution_count": 18,
   "id": "3fab714c",
   "metadata": {},
   "outputs": [
    {
     "name": "stdout",
     "output_type": "stream",
     "text": [
      "Mon\n"
     ]
    }
   ],
   "source": [
    "print(x.strftime(\"%a\"))"
   ]
  },
  {
   "cell_type": "code",
   "execution_count": 19,
   "id": "e361d6b4",
   "metadata": {},
   "outputs": [
    {
     "name": "stdout",
     "output_type": "stream",
     "text": [
      "17\n"
     ]
    }
   ],
   "source": [
    "print(x.strftime(\"%W\"))"
   ]
  },
  {
   "cell_type": "code",
   "execution_count": 20,
   "id": "5423fcf1",
   "metadata": {},
   "outputs": [
    {
     "name": "stdout",
     "output_type": "stream",
     "text": [
      "Apr\n"
     ]
    }
   ],
   "source": [
    "print(x.strftime(\"%b\"))"
   ]
  },
  {
   "cell_type": "markdown",
   "id": "79869bcd",
   "metadata": {},
   "source": [
    "## Python Math"
   ]
  },
  {
   "cell_type": "code",
   "execution_count": 24,
   "id": "278e6d40",
   "metadata": {},
   "outputs": [
    {
     "name": "stdout",
     "output_type": "stream",
     "text": [
      "7\n",
      "95\n"
     ]
    }
   ],
   "source": [
    "import math\n",
    "x= min(34,74,66,56,7,95,93,43,25)\n",
    "print(x)\n",
    "y= max(4,74,66,56,7,95,93,43,25)\n",
    "print(y)"
   ]
  },
  {
   "cell_type": "code",
   "execution_count": 27,
   "id": "b910088e",
   "metadata": {},
   "outputs": [
    {
     "data": {
      "text/plain": [
       "12"
      ]
     },
     "execution_count": 27,
     "metadata": {},
     "output_type": "execute_result"
    }
   ],
   "source": [
    "my_list= [25,43,64,45,75,75,68,12]\n",
    "min(my_list)"
   ]
  },
  {
   "cell_type": "code",
   "execution_count": 29,
   "id": "60f146d8",
   "metadata": {},
   "outputs": [
    {
     "data": {
      "text/plain": [
       "12"
      ]
     },
     "execution_count": 29,
     "metadata": {},
     "output_type": "execute_result"
    }
   ],
   "source": [
    "my_list= list((25,43,64,45,75,75,68,12))\n",
    "min(my_list)\n"
   ]
  },
  {
   "cell_type": "code",
   "execution_count": 30,
   "id": "ac191c9c",
   "metadata": {},
   "outputs": [
    {
     "name": "stdout",
     "output_type": "stream",
     "text": [
      "36\n"
     ]
    }
   ],
   "source": [
    "r= -36\n",
    "print(abs(r))"
   ]
  },
  {
   "cell_type": "code",
   "execution_count": 32,
   "id": "eb70179d",
   "metadata": {},
   "outputs": [
    {
     "data": {
      "text/plain": [
       "8"
      ]
     },
     "execution_count": 32,
     "metadata": {},
     "output_type": "execute_result"
    }
   ],
   "source": [
    "#pow(x,y): This means x^y\n",
    "\n",
    "pow(2,3) # 2^3\n"
   ]
  },
  {
   "cell_type": "code",
   "execution_count": 33,
   "id": "f0da7670",
   "metadata": {},
   "outputs": [
    {
     "data": {
      "text/plain": [
       "8.0"
      ]
     },
     "execution_count": 33,
     "metadata": {},
     "output_type": "execute_result"
    }
   ],
   "source": [
    "math.sqrt(64)"
   ]
  },
  {
   "cell_type": "code",
   "execution_count": 35,
   "id": "07b135a9",
   "metadata": {},
   "outputs": [
    {
     "data": {
      "text/plain": [
       "3"
      ]
     },
     "execution_count": 35,
     "metadata": {},
     "output_type": "execute_result"
    }
   ],
   "source": [
    "math.ceil(7/3)"
   ]
  },
  {
   "cell_type": "code",
   "execution_count": 36,
   "id": "76582d94",
   "metadata": {},
   "outputs": [
    {
     "data": {
      "text/plain": [
       "2.3333333333333335"
      ]
     },
     "execution_count": 36,
     "metadata": {},
     "output_type": "execute_result"
    }
   ],
   "source": [
    "7/3"
   ]
  },
  {
   "cell_type": "code",
   "execution_count": 37,
   "id": "2203c725",
   "metadata": {},
   "outputs": [
    {
     "data": {
      "text/plain": [
       "2"
      ]
     },
     "execution_count": 37,
     "metadata": {},
     "output_type": "execute_result"
    }
   ],
   "source": [
    "math.floor(7/3)"
   ]
  },
  {
   "cell_type": "code",
   "execution_count": 38,
   "id": "2af3ef66",
   "metadata": {},
   "outputs": [
    {
     "data": {
      "text/plain": [
       "-2"
      ]
     },
     "execution_count": 38,
     "metadata": {},
     "output_type": "execute_result"
    }
   ],
   "source": [
    "math.ceil(-7/3)"
   ]
  },
  {
   "cell_type": "code",
   "execution_count": 41,
   "id": "6fc78c3c",
   "metadata": {},
   "outputs": [
    {
     "data": {
      "text/plain": [
       "3.141592653589793"
      ]
     },
     "execution_count": 41,
     "metadata": {},
     "output_type": "execute_result"
    }
   ],
   "source": [
    "math.pi"
   ]
  },
  {
   "cell_type": "code",
   "execution_count": 42,
   "id": "43b86ce6",
   "metadata": {},
   "outputs": [
    {
     "data": {
      "text/plain": [
       "407.0"
      ]
     },
     "execution_count": 42,
     "metadata": {},
     "output_type": "execute_result"
    }
   ],
   "source": [
    "math.fsum(my_list)"
   ]
  },
  {
   "cell_type": "code",
   "execution_count": 44,
   "id": "b70d95e2",
   "metadata": {},
   "outputs": [
    {
     "data": {
      "text/plain": [
       "1"
      ]
     },
     "execution_count": 44,
     "metadata": {},
     "output_type": "execute_result"
    }
   ],
   "source": [
    "math.cos(0)\n",
    "math.factorial(0)"
   ]
  },
  {
   "cell_type": "code",
   "execution_count": null,
   "id": "8631d6e9",
   "metadata": {},
   "outputs": [],
   "source": [
    "# homework: Read on json module\n"
   ]
  },
  {
   "cell_type": "markdown",
   "id": "cb222106",
   "metadata": {},
   "source": [
    "# Python pip"
   ]
  },
  {
   "cell_type": "markdown",
   "id": "e7cf7976",
   "metadata": {},
   "source": [
    "Used f0r installing modules in python"
   ]
  },
  {
   "cell_type": "markdown",
   "id": "91cc6d8f",
   "metadata": {},
   "source": [
    "## JSON module"
   ]
  },
  {
   "cell_type": "code",
   "execution_count": 1,
   "id": "1aea819b",
   "metadata": {},
   "outputs": [
    {
     "name": "stdout",
     "output_type": "stream",
     "text": [
      "{'Name': 'Humphrey', 'Age': 20, 'Married': 'No', 'Studying': 'Yes'}\n"
     ]
    }
   ],
   "source": [
    "import json\n",
    "#parse using json.loads()\n",
    "x='{\"Name\":\"Humphrey\", \"Age\":20,\"Married\":\"No\",\"Studying\":\"Yes\"}'\n",
    "y= json.loads(x)\n",
    "\n",
    "print(y)"
   ]
  },
  {
   "cell_type": "code",
   "execution_count": 3,
   "id": "b8439c34",
   "metadata": {},
   "outputs": [
    {
     "name": "stdout",
     "output_type": "stream",
     "text": [
      "20\n"
     ]
    }
   ],
   "source": [
    "print(y[\"Age\"])"
   ]
  },
  {
   "cell_type": "code",
   "execution_count": 4,
   "id": "2e3f3de8",
   "metadata": {},
   "outputs": [
    {
     "name": "stdout",
     "output_type": "stream",
     "text": [
      "{\"Country\": \"Kenya\", \"Counties\": 47, \"Capital city\": \"Nairobi\", \"Largest Mountain\": \"Mount kenya\", \"President\": \"Kenyatta\"}\n"
     ]
    }
   ],
   "source": [
    "#Python to json\n",
    "#We use json.dumps()\n",
    "\n",
    "m={\n",
    "    \"Country\":\"Kenya\",\n",
    "    \"Counties\":47,\n",
    "    \"Capital city\":\"Nairobi\",\n",
    "    \"Largest Mountain\":\"Mount kenya\",\n",
    "    \"President\":\"Kenyatta\"\n",
    "}\n",
    "\n",
    "n=json.dumps(m)\n",
    "print(n)\n"
   ]
  },
  {
   "cell_type": "code",
   "execution_count": 9,
   "id": "66fa7c88",
   "metadata": {},
   "outputs": [
    {
     "name": "stdout",
     "output_type": "stream",
     "text": [
      "{\"name\": \"Humphrey\", \"Age\": 20}\n",
      "[\"Apple\", \"Avocado\"]\n",
      "[45, 83]\n",
      "\"Audi\"\n",
      "47\n",
      "84.7584\n",
      "true\n",
      "null\n"
     ]
    }
   ],
   "source": [
    "print(json.dumps({\"name\":\"Humphrey\", \"Age\":20}))\n",
    "print(json.dumps([\"Apple\",\"Avocado\"]))\n",
    "print(json.dumps((45,83)))\n",
    "print(json.dumps(\"Audi\"))\n",
    "print(json.dumps(47))\n",
    "print(json.dumps(84.7584))\n",
    "print(json.dumps(True))\n",
    "print(json.dumps(None))"
   ]
  },
  {
   "cell_type": "markdown",
   "id": "a522849a",
   "metadata": {},
   "source": [
    "## Numpy Module"
   ]
  },
  {
   "cell_type": "code",
   "execution_count": 12,
   "id": "698969f9",
   "metadata": {},
   "outputs": [
    {
     "name": "stdout",
     "output_type": "stream",
     "text": [
      "[37 94 38]\n"
     ]
    }
   ],
   "source": [
    "import numpy as np\n",
    "print(np.array([37,94,38]))"
   ]
  },
  {
   "cell_type": "code",
   "execution_count": 16,
   "id": "bc337e8f",
   "metadata": {},
   "outputs": [
    {
     "data": {
      "text/plain": [
       "array([[37, 94, 38],\n",
       "       [74, 38, 92]])"
      ]
     },
     "execution_count": 16,
     "metadata": {},
     "output_type": "execute_result"
    }
   ],
   "source": [
    "arr1=np.array([37,94,38])\n",
    "arr2=np.array([74,38,92])\n",
    "mult_arr=np.array([arr1,arr2])\n",
    "mult_arr"
   ]
  },
  {
   "cell_type": "code",
   "execution_count": 15,
   "id": "1379d188",
   "metadata": {},
   "outputs": [
    {
     "name": "stdout",
     "output_type": "stream",
     "text": [
      "(2, 3)\n"
     ]
    }
   ],
   "source": [
    "#Dimension of an array\n",
    "#shape()\n",
    "\n",
    "print(mult_arr.shape)"
   ]
  },
  {
   "cell_type": "code",
   "execution_count": 24,
   "id": "b124ac1d",
   "metadata": {},
   "outputs": [
    {
     "name": "stdout",
     "output_type": "stream",
     "text": [
      "(4, 4)\n"
     ]
    }
   ],
   "source": [
    "arr3=np.array([[37, 94, 38,34],\n",
    "               [74, 38, 92,57],\n",
    "              [23,38,46,74],\n",
    "              [65,36,98,57]])\n",
    "print(arr3.shape)"
   ]
  },
  {
   "cell_type": "code",
   "execution_count": null,
   "id": "06f91eb4",
   "metadata": {},
   "outputs": [],
   "source": [
    "import pandas as pd"
   ]
  }
 ],
 "metadata": {
  "kernelspec": {
   "display_name": "Python 3 (ipykernel)",
   "language": "python",
   "name": "python3"
  },
  "language_info": {
   "codemirror_mode": {
    "name": "ipython",
    "version": 3
   },
   "file_extension": ".py",
   "mimetype": "text/x-python",
   "name": "python",
   "nbconvert_exporter": "python",
   "pygments_lexer": "ipython3",
   "version": "3.9.12"
  }
 },
 "nbformat": 4,
 "nbformat_minor": 5
}
